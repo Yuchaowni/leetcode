{
 "cells": [
  {
   "cell_type": "markdown",
   "metadata": {},
   "source": [
    "# 53. Maximum Subarray"
   ]
  },
  {
   "cell_type": "code",
   "execution_count": 2,
   "metadata": {
    "collapsed": false
   },
   "outputs": [
    {
     "name": "stdout",
     "output_type": "stream",
     "text": [
      "1 -2 -2\n",
      "-3 1 1\n",
      "4 1 -2\n",
      "-1 4 4\n",
      "2 4 3\n",
      "1 5 5\n",
      "-5 6 6\n",
      "4 6 1\n",
      "6\n"
     ]
    }
   ],
   "source": [
    "# dynamic programming\n",
    "class Solution(object):\n",
    "    def maxSubArray(self, nums):\n",
    "        \"\"\"\n",
    "        :type nums: List[int]\n",
    "        :rtype: int\n",
    "        \"\"\"\n",
    "        max_ending_here = max_so_far = nums[0]\n",
    "        for x in nums[1:]:\n",
    "            print x,max_so_far,max_ending_here\n",
    "            max_ending_here = max(x, max_ending_here + x)\n",
    "            max_so_far = max(max_so_far, max_ending_here)\n",
    "        return max_so_far    \n",
    "print Solution().maxSubArray([-2,1,-3,4,-1,2,1,-5,4])"
   ]
  },
  {
   "cell_type": "markdown",
   "metadata": {},
   "source": [
    "# 122. Best Time to Buy and Sell Stock II"
   ]
  },
  {
   "cell_type": "code",
   "execution_count": 4,
   "metadata": {
    "collapsed": false
   },
   "outputs": [
    {
     "name": "stdout",
     "output_type": "stream",
     "text": [
      "13\n"
     ]
    }
   ],
   "source": [
    "class Solution(object):\n",
    "    def maxProfit(self, prices):\n",
    "        \"\"\"\n",
    "        :type prices: List[int]\n",
    "        :rtype: int\n",
    "        \"\"\"\n",
    "        \n",
    "        if len(prices)== 0:\n",
    "            return 0\n",
    "        else:\n",
    "            bought = prices[0]\n",
    "        ans = 0\n",
    "        for price in prices:\n",
    "            if price > bought:\n",
    "                ans += price - bought\n",
    "                bought = price\n",
    "            else:\n",
    "                bought = price\n",
    "        return ans\n",
    "\n",
    "print Solution().maxProfit([1,3,4,2,6,7,4,9,8])\n",
    "            "
   ]
  },
  {
   "cell_type": "code",
   "execution_count": null,
   "metadata": {
    "collapsed": true
   },
   "outputs": [],
   "source": []
  }
 ],
 "metadata": {
  "kernelspec": {
   "display_name": "Python [Root]",
   "language": "python",
   "name": "Python [Root]"
  },
  "language_info": {
   "codemirror_mode": {
    "name": "ipython",
    "version": 2
   },
   "file_extension": ".py",
   "mimetype": "text/x-python",
   "name": "python",
   "nbconvert_exporter": "python",
   "pygments_lexer": "ipython2",
   "version": "2.7.12"
  }
 },
 "nbformat": 4,
 "nbformat_minor": 0
}
