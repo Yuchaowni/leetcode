{
 "cells": [
  {
   "cell_type": "markdown",
   "metadata": {},
   "source": [
    "# 238. Product of Array Except Self"
   ]
  },
  {
   "cell_type": "code",
   "execution_count": 1,
   "metadata": {
    "collapsed": false
   },
   "outputs": [
    {
     "data": {
      "text/plain": [
       "[24, 12, 8, 6]"
      ]
     },
     "execution_count": 1,
     "metadata": {},
     "output_type": "execute_result"
    }
   ],
   "source": [
    "# brute force\n",
    "class Solution(object):\n",
    "    def productExceptSelf(self, nums):\n",
    "        \"\"\"\n",
    "        :type nums: List[int]\n",
    "        :rtype: List[int]\n",
    "        \"\"\"\n",
    "        length=len(nums)\n",
    "        ans=[1]*length\n",
    "        for i in range(length):\n",
    "            for j in range(length):\n",
    "                if j!=i:\n",
    "                    ans[j]=ans[j]*nums[i]\n",
    "        return ans\n",
    "Solution().productExceptSelf([1,2,3,4])"
   ]
  },
  {
   "cell_type": "code",
   "execution_count": 1,
   "metadata": {
    "collapsed": false
   },
   "outputs": [
    {
     "data": {
      "text/plain": [
       "[24, 12, 8, 6]"
      ]
     },
     "execution_count": 1,
     "metadata": {},
     "output_type": "execute_result"
    }
   ],
   "source": [
    "# one pass from left to right and another pass from right to left\n",
    "class Solution(object):\n",
    "    def productExceptSelf(self, nums):\n",
    "        \"\"\"\n",
    "        :type nums: List[int]\n",
    "        :rtype: List[int]\n",
    "        \"\"\"\n",
    "        length=len(nums)\n",
    "        ans=[1]*length\n",
    "        left,right=1,1\n",
    "        for i in range(length):\n",
    "            ans[i] *= left\n",
    "            left *= nums[i]\n",
    "        for i in range(length-1,-1,-1):\n",
    "            ans[i] *= right\n",
    "            right  *= nums[i]\n",
    "        return ans\n",
    "Solution().productExceptSelf([1,2,3,4])"
   ]
  },
  {
   "cell_type": "markdown",
   "metadata": {},
   "source": [
    "# 42. Trapping Rain Water"
   ]
  },
  {
   "cell_type": "code",
   "execution_count": 4,
   "metadata": {
    "collapsed": false
   },
   "outputs": [
    {
     "name": "stdout",
     "output_type": "stream",
     "text": [
      "2\n"
     ]
    }
   ],
   "source": [
    "# two points \n",
    "class Solution(object):\n",
    "    def trap(self, height):\n",
    "        \"\"\"\n",
    "        :type height: List[int]\n",
    "        :rtype: int\n",
    "        \"\"\"\n",
    "        left,right = 0, len(height)-1\n",
    "        ans = 0\n",
    "        maxleft,maxright=0,0\n",
    "        while left < right:\n",
    "            if height[left] <= height[right]: # decide water goes the which side\n",
    "                if height[left] >= maxleft:\n",
    "                    maxleft = height[left]\n",
    "                else:\n",
    "                    ans += maxleft - height[left]\n",
    "                left += 1\n",
    "            else:\n",
    "                if height[right] >= maxright:\n",
    "                    maxright = height[right]\n",
    "                else:\n",
    "                    ans += maxright -height[right]\n",
    "                right -= 1\n",
    "        return ans\n",
    "print Solution().trap([0,1,0,2,1,0,1,1,1,1,1,1])"
   ]
  },
  {
   "cell_type": "code",
   "execution_count": null,
   "metadata": {
    "collapsed": true
   },
   "outputs": [],
   "source": []
  }
 ],
 "metadata": {
  "anaconda-cloud": {},
  "kernelspec": {
   "display_name": "Python [Root]",
   "language": "python",
   "name": "Python [Root]"
  },
  "language_info": {
   "codemirror_mode": {
    "name": "ipython",
    "version": 2
   },
   "file_extension": ".py",
   "mimetype": "text/x-python",
   "name": "python",
   "nbconvert_exporter": "python",
   "pygments_lexer": "ipython2",
   "version": "2.7.12"
  }
 },
 "nbformat": 4,
 "nbformat_minor": 0
}
