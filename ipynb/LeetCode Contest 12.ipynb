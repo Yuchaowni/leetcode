{
 "cells": [
  {
   "cell_type": "code",
   "execution_count": 56,
   "metadata": {
    "collapsed": false
   },
   "outputs": [],
   "source": [
    "a=[474833169,264817709,998097157,817129560]"
   ]
  },
  {
   "cell_type": "code",
   "execution_count": 72,
   "metadata": {
    "collapsed": false
   },
   "outputs": [
    {
     "name": "stdout",
     "output_type": "stream",
     "text": [
      "[26, 47, 81, 99] [19, 40, 50, 89]\n",
      "104745341\n"
     ]
    }
   ],
   "source": [
    "a,b=[47,26,99,81],[19,40,89,50]   \n",
    "a.sort()\n",
    "b.sort()\n",
    "print a,b\n",
    "print 998097157-893351816"
   ]
  },
  {
   "cell_type": "code",
   "execution_count": 76,
   "metadata": {
    "collapsed": false
   },
   "outputs": [
    {
     "name": "stdout",
     "output_type": "stream",
     "text": [
      "264817709 197493099 404280278\n",
      "67324610\n",
      "474833169 404280278 505795335\n",
      "30962166\n",
      "817129560 505795335 893351816\n",
      "76222256\n",
      "998097157 893351816 inf\n",
      "104745341\n",
      "104745341\n"
     ]
    }
   ],
   "source": [
    "class Solution(object):\n",
    "    def findRadius(self, houses, heaters):\n",
    "        \"\"\"\n",
    "        :type houses: List[int]\n",
    "        :type heaters: List[int]\n",
    "        :rtype: int\n",
    "        \"\"\"\n",
    "        houses.sort()\n",
    "        heaters.sort()\n",
    "        heaters=[float('-inf')]+heaters+[float('inf')] # add 2 fake heaters\n",
    "        ans,i = 0,0\n",
    "        for house in houses:\n",
    "            while house > heaters[i+1]:  # search to put house between heaters\n",
    "                i +=1\n",
    "            dis = min (house - heaters[i], heaters[i+1]- house)\n",
    "            ans = max(ans, dis)\n",
    "        return ans              \n",
    "    \n",
    "#print Solution().findRadius([1,2,3],[2])\n",
    "#print Solution().findRadius([1,2,3,4],[1,4])\n",
    "#print Solution().findRadius([1,5,10,17],[3,13])        \n",
    "print Solution().findRadius([474833169,264817709,998097157,817129560],\n",
    "[197493099,404280278,893351816,505795335])        \n"
   ]
  },
  {
   "cell_type": "code",
   "execution_count": 39,
   "metadata": {
    "collapsed": false
   },
   "outputs": [
    {
     "name": "stdout",
     "output_type": "stream",
     "text": [
      "Neither\n"
     ]
    }
   ],
   "source": [
    "class Solution(object):\n",
    "    def validIPAddress(self, IP):\n",
    "        \"\"\"\n",
    "        :type IP: str\n",
    "        :rtype: str\n",
    "        \"\"\"\n",
    "        hexi = '0123456789abcdefABCDEF'\n",
    "        if '.' in IP:\n",
    "            nums = IP.split('.')\n",
    "            if len(nums) != 4:\n",
    "                return \"Neither\"\n",
    "            for num in nums:\n",
    "                #print num\n",
    "                if len(num)> 1 and num[0]=='0':\n",
    "                    return \"Neither\"\n",
    "                u = unicode(num)\n",
    "                if u.isnumeric():\n",
    "                    d= int(num)\n",
    "                    if d >= 0 and d <= 255:\n",
    "                        pass\n",
    "                    else:\n",
    "                        return \"Neither\"\n",
    "                else:\n",
    "                    return \"Neither\"\n",
    "            return \"IPv4\"\n",
    "        elif ':' in IP:\n",
    "            nums = IP.split(':')\n",
    "            if len(nums) != 8:\n",
    "                return \"Neither\"\n",
    "            for num in nums:\n",
    "                #print num\n",
    "                if len(num) > 4 or len(num)==0:\n",
    "                    return \"Neither\"\n",
    "                for d in num:\n",
    "                    if d not in hexi:\n",
    "                        return \"Neither\"\n",
    "            return \"IPv6\"\n",
    "        else:\n",
    "            return \"Neither\"\n",
    "\n",
    "#print Solution().validIPAddress(\"A.a.aA.2\")        \n",
    "#print Solution().validIPAddress(\"172.16.254.1\")\n",
    "#print Solution().validIPAddress(\"172.16.254.01\")\n",
    "#print Solution().validIPAddress(\"2001:0db8:85a3:0:0:8A2E:0370:7334\")\n",
    "#print Solution().validIPAddress(\"2001:0db8:85a3:0::8A2E:0370:7334\")\n",
    "#print Solution().validIPAddress(\"02001:0db8:85a3:0:0:8A2E:0370:7334\")\n",
    "#print Solution().validIPAddress(\"256.256.256.256\")"
   ]
  },
  {
   "cell_type": "code",
   "execution_count": 40,
   "metadata": {
    "collapsed": false
   },
   "outputs": [
    {
     "data": {
      "text/plain": [
       "True"
      ]
     },
     "execution_count": 40,
     "metadata": {},
     "output_type": "execute_result"
    }
   ],
   "source": [
    "u = unicode('1')\n",
    "u.isnumeric()"
   ]
  },
  {
   "cell_type": "code",
   "execution_count": 25,
   "metadata": {
    "collapsed": false
   },
   "outputs": [
    {
     "data": {
      "text/plain": [
       "'0'"
      ]
     },
     "execution_count": 25,
     "metadata": {},
     "output_type": "execute_result"
    }
   ],
   "source": [
    "'01'[0]"
   ]
  },
  {
   "cell_type": "code",
   "execution_count": null,
   "metadata": {
    "collapsed": true
   },
   "outputs": [],
   "source": []
  }
 ],
 "metadata": {
  "anaconda-cloud": {},
  "kernelspec": {
   "display_name": "Python [Root]",
   "language": "python",
   "name": "Python [Root]"
  },
  "language_info": {
   "codemirror_mode": {
    "name": "ipython",
    "version": 2
   },
   "file_extension": ".py",
   "mimetype": "text/x-python",
   "name": "python",
   "nbconvert_exporter": "python",
   "pygments_lexer": "ipython2",
   "version": "2.7.12"
  }
 },
 "nbformat": 4,
 "nbformat_minor": 0
}
