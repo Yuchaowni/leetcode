{
 "cells": [
  {
   "cell_type": "markdown",
   "metadata": {},
   "source": [
    "# 492. Construct the rectangle"
   ]
  },
  {
   "cell_type": "code",
   "execution_count": 13,
   "metadata": {
    "collapsed": false
   },
   "outputs": [
    {
     "name": "stdout",
     "output_type": "stream",
     "text": [
      "[4, 2]\n"
     ]
    }
   ],
   "source": [
    "import math\n",
    "class Solution(object):  \n",
    "    def constructRectangle(self, area):\n",
    "        \"\"\"\n",
    "        :type area: int\n",
    "        :rtype: List[int]\n",
    "        \"\"\"\n",
    "        width = int(math.sqrt(area))\n",
    "          \n",
    "        while width > 0:\n",
    "            if area % width == 0:\n",
    "                length = area/width\n",
    "                break\n",
    "            width -= 1\n",
    "        return [length, width]\n",
    "print Solution().constructRectangle(8)  "
   ]
  },
  {
   "cell_type": "markdown",
   "metadata": {},
   "source": [
    "# 486. Predict the Winner"
   ]
  },
  {
   "cell_type": "code",
   "execution_count": 20,
   "metadata": {
    "collapsed": false
   },
   "outputs": [
    {
     "name": "stdout",
     "output_type": "stream",
     "text": [
      "2 0\n",
      "2 5\n",
      "3 5\n",
      "False\n",
      "230 0\n",
      "230 233\n",
      "235 233\n",
      "235 234\n",
      "True\n"
     ]
    }
   ],
   "source": [
    "class Solution(object):\n",
    "    def PredictTheWinner(self, nums):\n",
    "        \"\"\"\n",
    "        :type nums: List[int]\n",
    "        :rtype: bool\n",
    "        \"\"\"\n",
    "        p1,p2 = 0,0\n",
    "        left,right = 0, len(nums)-1\n",
    "        \n",
    "        for i in range(len(nums)):\n",
    "          if nums[left]> nums[right]:\n",
    "            pick = nums[left]\n",
    "            left +=1\n",
    "          else:\n",
    "            pick = nums[right]\n",
    "            right -=1\n",
    "          if i % 2 == 0:\n",
    "            p1 += pick\n",
    "          else:\n",
    "            p2 += pick\n",
    "          print p1,p2\n",
    "        return p1>p2\n",
    "print Solution().PredictTheWinner([1, 5, 2])\n",
    "print Solution().PredictTheWinner([1, 5, 233, 230])"
   ]
  },
  {
   "cell_type": "code",
   "execution_count": 17,
   "metadata": {
    "collapsed": false
   },
   "outputs": [
    {
     "data": {
      "text/plain": [
       "233"
      ]
     },
     "execution_count": 17,
     "metadata": {},
     "output_type": "execute_result"
    }
   ],
   "source": [
    "[1, 5, 233, 7].pop(2)"
   ]
  },
  {
   "cell_type": "code",
   "execution_count": null,
   "metadata": {
    "collapsed": true
   },
   "outputs": [],
   "source": []
  }
 ],
 "metadata": {
  "anaconda-cloud": {},
  "kernelspec": {
   "display_name": "Python [default]",
   "language": "python",
   "name": "python2"
  },
  "language_info": {
   "codemirror_mode": {
    "name": "ipython",
    "version": 2
   },
   "file_extension": ".py",
   "mimetype": "text/x-python",
   "name": "python",
   "nbconvert_exporter": "python",
   "pygments_lexer": "ipython2",
   "version": "2.7.12"
  }
 },
 "nbformat": 4,
 "nbformat_minor": 1
}
