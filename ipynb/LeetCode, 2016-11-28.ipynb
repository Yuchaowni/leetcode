{
 "cells": [
  {
   "cell_type": "markdown",
   "metadata": {},
   "source": [
    "# 433 Minimum Genetic Mutation"
   ]
  },
  {
   "cell_type": "code",
   "execution_count": 5,
   "metadata": {
    "collapsed": true
   },
   "outputs": [],
   "source": [
    "# BFS\n",
    "class Solution():\n",
    "    def minMutation(self, start, end, bank):\n",
    "            \"\"\"\n",
    "            :type start: str\n",
    "            :type end: str\n",
    "            :type bank: List[str]\n",
    "            :rtype: int\n",
    "            \"\"\"\n",
    "            queue =[(start,[start])]\n",
    "            while queue:\n",
    "                vertex,path=queue.pop(0) # breadth first search\n",
    "                # print path\n",
    "                pool=bank[:] # a copy of current bank\n",
    "                for item in pool:\n",
    "                    if self.differBySingleChar(item,vertex):\n",
    "                        if item == end:\n",
    "                            return len(path)\n",
    "                        else:\n",
    "                            queue.append((item,path+[item]))\n",
    "                            bank.remove(item)  # remove used item\n",
    "            return -1\n",
    "\n",
    "    def differBySingleChar(self,str1,str2): # Judge if one gene can be reached by another by one mutation\n",
    "            count = 0\n",
    "            for i in range(len(str1)):\n",
    "                if str1[i] != str2[i]:\n",
    "                    count += 1\n",
    "            return count == 1"
   ]
  },
  {
   "cell_type": "code",
   "execution_count": 13,
   "metadata": {
    "collapsed": true
   },
   "outputs": [],
   "source": [
    "# BFS\n",
    "class Solution():\n",
    "    def minMutation(self, start, end, bank):\n",
    "            \"\"\"\n",
    "            :type start: str\n",
    "            :type end: str\n",
    "            :type bank: List[str]\n",
    "            :rtype: int\n",
    "            \"\"\"\n",
    "            queue =[(start,[start])]\n",
    "            while queue:\n",
    "                vertex,path=queue.pop(0) # breadth first search\n",
    "                # print path\n",
    "                pool=bank[:] # a copy of current bank\n",
    "                for item in pool:\n",
    "                    if self.differBySingleChar(item,vertex):\n",
    "                        if item == end:\n",
    "                            return len(path)\n",
    "                        else:\n",
    "                            queue.append((item,path+[item]))\n",
    "                            bank.remove(item)  # remove used item\n",
    "            return -1\n",
    "\n",
    "    def differBySingleChar(self,str1,str2): # Judge if one gene can be reached by another by one mutation\n",
    "            count = 0\n",
    "            for i in range(len(str1)):\n",
    "                if str1[i] != str2[i]:\n",
    "                    count += 1\n",
    "            return count == 1"
   ]
  },
  {
   "cell_type": "code",
   "execution_count": 22,
   "metadata": {
    "collapsed": false
   },
   "outputs": [
    {
     "name": "stdout",
     "output_type": "stream",
     "text": [
      "2 set([1, 2])\n"
     ]
    },
    {
     "data": {
      "text/plain": [
       "2"
      ]
     },
     "execution_count": 22,
     "metadata": {},
     "output_type": "execute_result"
    }
   ],
   "source": [
    "start= \"AACCCCCC\"\n",
    "end=   \"AAATCCCC\"\n",
    "bank= [\"AAAACCCC\", \"AAACCCCC\", \"AACCCCCC\"]\n",
    "a=Solution()\n",
    "a.minMutation(start, end, bank)"
   ]
  },
  {
   "cell_type": "code",
   "execution_count": null,
   "metadata": {
    "collapsed": true
   },
   "outputs": [],
   "source": []
  }
 ],
 "metadata": {
  "anaconda-cloud": {},
  "kernelspec": {
   "display_name": "Python [Root]",
   "language": "python",
   "name": "Python [Root]"
  },
  "language_info": {
   "codemirror_mode": {
    "name": "ipython",
    "version": 2
   },
   "file_extension": ".py",
   "mimetype": "text/x-python",
   "name": "python",
   "nbconvert_exporter": "python",
   "pygments_lexer": "ipython2",
   "version": "2.7.12"
  }
 },
 "nbformat": 4,
 "nbformat_minor": 0
}
