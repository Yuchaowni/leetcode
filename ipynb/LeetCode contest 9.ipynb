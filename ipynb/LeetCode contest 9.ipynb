{
 "cells": [
  {
   "cell_type": "code",
   "execution_count": 24,
   "metadata": {
    "collapsed": true
   },
   "outputs": [],
   "source": [
    "class Solution(object):\n",
    "    def findContentChildren(self, g, s):\n",
    "        \"\"\"\n",
    "        :type g: List[int]\n",
    "        :type s: List[int]\n",
    "        :rtype: int\n",
    "        \"\"\"\n",
    "        g.sort()\n",
    "        s.sort()\n",
    "        gi=0\n",
    "        sj=0\n",
    "        while gi<len(g) and sj < len(s):\n",
    "            if g[gi] <= s[sj]:\n",
    "                gi+=1\n",
    "                sj+=1\n",
    "            else:\n",
    "                sj+=1\n",
    "        return min(gi,sj)"
   ]
  },
  {
   "cell_type": "code",
   "execution_count": 25,
   "metadata": {
    "collapsed": true
   },
   "outputs": [],
   "source": [
    "a= Solution()"
   ]
  },
  {
   "cell_type": "code",
   "execution_count": 28,
   "metadata": {
    "collapsed": false
   },
   "outputs": [
    {
     "data": {
      "text/plain": [
       "3"
      ]
     },
     "execution_count": 28,
     "metadata": {},
     "output_type": "execute_result"
    }
   ],
   "source": [
    "a.findContentChildren([1,2,3],[1,1,5,6,])"
   ]
  },
  {
   "cell_type": "code",
   "execution_count": 31,
   "metadata": {
    "collapsed": false
   },
   "outputs": [
    {
     "data": {
      "text/plain": [
       "1"
      ]
     },
     "execution_count": 31,
     "metadata": {},
     "output_type": "execute_result"
    }
   ],
   "source": [
    "a.findContentChildren([1],[1])"
   ]
  },
  {
   "cell_type": "code",
   "execution_count": 48,
   "metadata": {
    "collapsed": false
   },
   "outputs": [],
   "source": [
    "class Solution(object):\n",
    "    def repeatedSubstringPattern(self, str):\n",
    "        \"\"\"\n",
    "        :type str: str\n",
    "        :rtype: bool\n",
    "        \"\"\"\n",
    "        length=len(str)\n",
    "        for i in range(1,length/2+1):\n",
    "            if length % i !=0:\n",
    "                continue\n",
    "            factor = length/i\n",
    "            clone= str[:i]*factor\n",
    "            if str == clone:\n",
    "                return True\n",
    "                \n",
    "        return False"
   ]
  },
  {
   "cell_type": "code",
   "execution_count": 49,
   "metadata": {
    "collapsed": false
   },
   "outputs": [
    {
     "data": {
      "text/plain": [
       "True"
      ]
     },
     "execution_count": 49,
     "metadata": {},
     "output_type": "execute_result"
    }
   ],
   "source": [
    "a= Solution()\n",
    "a.repeatedSubstringPattern(\"abcabcabcabc\")"
   ]
  },
  {
   "cell_type": "code",
   "execution_count": 34,
   "metadata": {
    "collapsed": false
   },
   "outputs": [
    {
     "data": {
      "text/plain": [
       "'abab'"
      ]
     },
     "execution_count": 34,
     "metadata": {},
     "output_type": "execute_result"
    }
   ],
   "source": [
    "'ab'*2\n"
   ]
  },
  {
   "cell_type": "code",
   "execution_count": 35,
   "metadata": {
    "collapsed": true
   },
   "outputs": [],
   "source": [
    "a='hello'"
   ]
  },
  {
   "cell_type": "code",
   "execution_count": 41,
   "metadata": {
    "collapsed": false
   },
   "outputs": [
    {
     "data": {
      "text/plain": [
       "'he'"
      ]
     },
     "execution_count": 41,
     "metadata": {},
     "output_type": "execute_result"
    }
   ],
   "source": [
    "a[:2]"
   ]
  },
  {
   "cell_type": "code",
   "execution_count": 52,
   "metadata": {
    "collapsed": true
   },
   "outputs": [],
   "source": [
    "a={}\n",
    "a[1]=2"
   ]
  },
  {
   "cell_type": "code",
   "execution_count": 53,
   "metadata": {
    "collapsed": false
   },
   "outputs": [
    {
     "data": {
      "text/plain": [
       "True"
      ]
     },
     "execution_count": 53,
     "metadata": {},
     "output_type": "execute_result"
    }
   ],
   "source": [
    "1 in a"
   ]
  },
  {
   "cell_type": "code",
   "execution_count": 4,
   "metadata": {
    "collapsed": false
   },
   "outputs": [],
   "source": [
    "class Solution(object):\n",
    "    def fourSumCount(self, A, B, C, D):\n",
    "        \"\"\"\n",
    "        :type A: List[int]\n",
    "        :type B: List[int]\n",
    "        :type C: List[int]\n",
    "        :type D: List[int]\n",
    "        :rtype: int\n",
    "        \"\"\"\n",
    "        \n",
    "        dic={}\n",
    "        result=0\n",
    "        for a in A:\n",
    "            for b in B:\n",
    "                ab=a+b\n",
    "                if ab not in dic:\n",
    "                    dic[ab]=1\n",
    "                else:\n",
    "                    dic[ab]+=1\n",
    "        for c in C:\n",
    "            for d in D:\n",
    "                cd=-(c+d)\n",
    "                if cd in dic:\n",
    "                    result+=dic[cd]\n",
    "                    \n",
    "        return result"
   ]
  },
  {
   "cell_type": "code",
   "execution_count": 6,
   "metadata": {
    "collapsed": false
   },
   "outputs": [
    {
     "name": "stdout",
     "output_type": "stream",
     "text": [
      "False\n",
      "True\n",
      "False\n"
     ]
    }
   ],
   "source": [
    "class Solution(object):\n",
    "    def find132pattern(self, nums):\n",
    "        \"\"\"\n",
    "        :type nums: List[int]\n",
    "        :rtype: bool\n",
    "        \"\"\"\n",
    "        length=len(nums)\n",
    "        if length<=2:\n",
    "            return False\n",
    "        if nums[0]<nums[1]:\n",
    "            low,high=nums[0],nums[1]\n",
    "        else:\n",
    "            low,high=nums[1],nums[1]\n",
    "        flag = False\n",
    "        for i in range(1,length):\n",
    "            # print low,high\n",
    "            n = nums[i]\n",
    "            if n< low:\n",
    "                flag= True\n",
    "                wait = n\n",
    "            elif n> high:\n",
    "                high= n\n",
    "                if flag==True:\n",
    "                    low= wait\n",
    "                    flag=False\n",
    "            elif n > low and n < high:  # find 132 pattern\n",
    "                return True\n",
    "        return False\n",
    "\n",
    "print Solution().find132pattern([3, 1, 4, 5,10,11])  # False\n",
    "print Solution().find132pattern([1,3, 2]) # True\n",
    "print Solution().find132pattern([8,10,4,6,5]) # True"
   ]
  },
  {
   "cell_type": "code",
   "execution_count": 3,
   "metadata": {
    "collapsed": false
   },
   "outputs": [
    {
     "data": {
      "text/plain": [
       "False"
      ]
     },
     "execution_count": 3,
     "metadata": {},
     "output_type": "execute_result"
    }
   ],
   "source": [
    "class Solution(object):\n",
    "    def find132pattern(self, nums):\n",
    "        \"\"\"\n",
    "        :type nums: List[int]\n",
    "        :rtype: bool\n",
    "        \"\"\"\n",
    "        low, high = nums[0],nums[0]\n",
    "        pool=[]\n",
    "        for item in nums:\n",
    "            if item in pool:\n",
    "                return True\n",
    "            if item < low:\n",
    "                low = item\n",
    "            else:\n",
    "            \n",
    "\n",
    "        return False\n",
    "    \n",
    "Solution().find132pattern([3, 1, 4, 5,10,11])"
   ]
  },
  {
   "cell_type": "code",
   "execution_count": 13,
   "metadata": {
    "collapsed": false
   },
   "outputs": [],
   "source": [
    "a=set([1])\n",
    "a.add(1)"
   ]
  },
  {
   "cell_type": "code",
   "execution_count": null,
   "metadata": {
    "collapsed": true
   },
   "outputs": [],
   "source": []
  }
 ],
 "metadata": {
  "anaconda-cloud": {},
  "kernelspec": {
   "display_name": "Python [Root]",
   "language": "python",
   "name": "Python [Root]"
  },
  "language_info": {
   "codemirror_mode": {
    "name": "ipython",
    "version": 2
   },
   "file_extension": ".py",
   "mimetype": "text/x-python",
   "name": "python",
   "nbconvert_exporter": "python",
   "pygments_lexer": "ipython2",
   "version": "2.7.12"
  }
 },
 "nbformat": 4,
 "nbformat_minor": 0
}
