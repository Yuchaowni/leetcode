{
 "cells": [
  {
   "cell_type": "markdown",
   "metadata": {},
   "source": [
    "# 388 longest Absolute File Path\n"
   ]
  },
  {
   "cell_type": "code",
   "execution_count": 139,
   "metadata": {
    "collapsed": false
   },
   "outputs": [
    {
     "name": "stdout",
     "output_type": "stream",
     "text": [
      "[4]\n",
      "[4, 8]\n",
      "[4, 8]\n",
      "[4, 8, 9]\n",
      "True\n",
      "[4]\n",
      "[9]\n",
      "False\n",
      "[26]\n",
      "True\n"
     ]
    }
   ],
   "source": [
    "class Solution(object):\n",
    "    def lengthLongestPath(self, input):\n",
    "        \"\"\"\n",
    "        :type input: str\n",
    "        :rtype: int\n",
    "        \"\"\"\n",
    "        paths = []  # lengths of each step\n",
    "        ans= 0\n",
    "        pre= -1 # previous level\n",
    "        for step in input.split(\"\\n\"):\n",
    "            step0 = step.lstrip(\"\\t\") # remove leading char of \"\\t\"\n",
    "            step00= step0.lstrip(' ') # remove leading char of ' '\n",
    "            path = len(step00) # get length of current step \n",
    "            level = len(step) - len(step0)     # get level of current step\n",
    "            for _ in range(pre-level+1):  # check if previous leverl is larger\n",
    "                #print _\n",
    "                paths.pop()\n",
    "            paths.append(path+1) # append new length+1\n",
    "            print paths\n",
    "            if \".\" in step:\n",
    "                ans = max(ans, sum(paths) - 1)\n",
    "            pre = level\n",
    "        return ans\n",
    "\n",
    "data = [\n",
    "    (\"dir\\n\\tsubdir1\\n\\tsubdir2\\n\\t\\tfile.ext\",20),\n",
    "    (\"dir\\n    file.txt\",12),\n",
    "    (\"  file name with  space.txt\",25)\n",
    "       ]\n",
    "\n",
    "s= Solution()\n",
    "for [list, expected] in data:\n",
    "    #for _ in list:\n",
    "    #    print list\n",
    "    actual = s.lengthLongestPath(list)\n",
    "    print actual == expected\n"
   ]
  },
  {
   "cell_type": "code",
   "execution_count": null,
   "metadata": {
    "collapsed": true
   },
   "outputs": [],
   "source": []
  }
 ],
 "metadata": {
  "kernelspec": {
   "display_name": "Python [Root]",
   "language": "python",
   "name": "Python [Root]"
  },
  "language_info": {
   "codemirror_mode": {
    "name": "ipython",
    "version": 2
   },
   "file_extension": ".py",
   "mimetype": "text/x-python",
   "name": "python",
   "nbconvert_exporter": "python",
   "pygments_lexer": "ipython2",
   "version": "2.7.12"
  }
 },
 "nbformat": 4,
 "nbformat_minor": 0
}
