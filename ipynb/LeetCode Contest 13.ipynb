{
 "cells": [
  {
   "cell_type": "markdown",
   "metadata": {},
   "source": [
    "# 461 Hamming Distance"
   ]
  },
  {
   "cell_type": "code",
   "execution_count": 28,
   "metadata": {
    "collapsed": false
   },
   "outputs": [
    {
     "name": "stdout",
     "output_type": "stream",
     "text": [
      "2\n",
      "1\n"
     ]
    }
   ],
   "source": [
    "class Solution(object):\n",
    "    def hammingDistance(self, x, y):\n",
    "        \"\"\"\n",
    "        :type x: int\n",
    "        :type y: int\n",
    "        :rtype: int\n",
    "        \"\"\"\n",
    "        ans=0\n",
    "        x,y = str(bin(x))[2:],str(bin(y))[2:]\n",
    "        i,j= len(x),len(y)\n",
    "        while i>0 and j > 0:\n",
    "            i -=1\n",
    "            j -=1\n",
    "            if x[i] != y[j]:\n",
    "                ans+=1\n",
    "                \n",
    "        while i> 0:\n",
    "            i -=1\n",
    "            if x[i] == '1':\n",
    "                ans+=1\n",
    "        while j>0:\n",
    "            j -=1\n",
    "            if y[j] == '1':\n",
    "                ans+=1\n",
    "        \n",
    "        return ans\n",
    "            \n",
    "print Solution().hammingDistance(1,4)            \n",
    "print Solution().hammingDistance(2,6)          "
   ]
  },
  {
   "cell_type": "markdown",
   "metadata": {},
   "source": [
    "# 477  Total Hamming Distance"
   ]
  },
  {
   "cell_type": "code",
   "execution_count": 33,
   "metadata": {
    "collapsed": false
   },
   "outputs": [
    {
     "name": "stdout",
     "output_type": "stream",
     "text": [
      "6\n"
     ]
    }
   ],
   "source": [
    "class Solution(object):\n",
    "    def totalHammingDistance(self, nums):\n",
    "        \"\"\"\n",
    "        :type nums: List[int]\n",
    "        :rtype: int\n",
    "        \"\"\"\n",
    "        tot=0\n",
    "        length = len(nums)\n",
    "        for i in range(length):\n",
    "            for j in range(i+1,length):\n",
    "                tot += self.hammingDistance(nums[i],nums[j])\n",
    "        return tot\n",
    "    \n",
    "    def hammingDistance(self, x, y):\n",
    "        \"\"\"\n",
    "        :type x: int\n",
    "        :type y: int\n",
    "        :rtype: int\n",
    "        \"\"\"\n",
    "        ans=0\n",
    "        x,y = str(bin(x))[2:],str(bin(y))[2:]\n",
    "        i,j= len(x),len(y)\n",
    "        while i>0 and j > 0:\n",
    "            i -=1\n",
    "            j -=1\n",
    "            if x[i] != y[j]:\n",
    "                ans+=1\n",
    "                \n",
    "        while i> 0:\n",
    "            i -=1\n",
    "            if x[i] == '1':\n",
    "                ans+=1\n",
    "        while j>0:\n",
    "            j -=1\n",
    "            if y[j] == '1':\n",
    "                ans+=1\n",
    "        \n",
    "        return ans\n",
    "    \n",
    "print Solution().totalHammingDistance([4,14,2]) "
   ]
  },
  {
   "cell_type": "markdown",
   "metadata": {},
   "source": [
    "# 473. Matchsticks to Square"
   ]
  },
  {
   "cell_type": "code",
   "execution_count": 73,
   "metadata": {
    "collapsed": false
   },
   "outputs": [
    {
     "name": "stdout",
     "output_type": "stream",
     "text": [
      "0 0 [2, 2, 2, 2, 3, 3, 3, 5, 5, 5, 6, 10]\n",
      "0 1 [2, 2, 2, 3, 3, 3, 5, 5, 5, 6]\n",
      "11 1 [2, 2, 2, 3, 3, 3, 5, 5]\n",
      "13 1 [2, 2, 3, 3, 3, 5, 5]\n",
      "15 1 [2, 3, 3, 3, 5, 5]\n",
      "17 1 [3, 3, 3, 5, 5]\n",
      "20 1 [3, 3, 5, 5]\n",
      "23 1 [3, 5, 5]\n",
      "26 1 [5, 5]\n",
      "31 1 [5]\n",
      "False\n"
     ]
    }
   ],
   "source": [
    "class Solution(object):\n",
    "    def makesquare(self, nums):\n",
    "        \"\"\"\n",
    "        :type nums: List[int]\n",
    "        :rtype: bool\n",
    "        \"\"\"\n",
    "        nums.sort()\n",
    "        length= len(nums)\n",
    "        if length < 4:\n",
    "            return False\n",
    "        \n",
    "        if sum(nums)%4 != 0 :\n",
    "            return False\n",
    "        \n",
    "        edge = sum(nums)/4\n",
    "        \n",
    "        count = 0\n",
    "        temp =0\n",
    "\n",
    "        while nums:\n",
    "            print temp,count,nums\n",
    "            if temp == 0:\n",
    "                temp = nums.pop()\n",
    "                pass\n",
    "            \n",
    "            if temp + nums[len(nums)-1]< edge:\n",
    "                temp += nums.pop()\n",
    "                \n",
    "            else:\n",
    "                temp += nums.pop(0)\n",
    "            \n",
    "            if edge-temp in nums:\n",
    "                index = nums.index(edge-temp)\n",
    "                temp += nums.pop(index)\n",
    "                \n",
    "            if temp == edge:\n",
    "                count +=1\n",
    "                temp = 0\n",
    "        return count == 4 \n",
    "    \n",
    "#print Solution().makesquare([1,1,2,2,2,4,4]) \n",
    "print Solution().makesquare([10,6,5,5,5,3,3,3,2,2,2,2])    # True\n",
    "#print Solution().makesquare([5,5,5,5,4,4,4,4,3,3,3,3]) \n"
   ]
  },
  {
   "cell_type": "code",
   "execution_count": 48,
   "metadata": {
    "collapsed": false
   },
   "outputs": [],
   "source": [
    "a=[1,1,2,2,2]\n",
    "b=a.pop(0)"
   ]
  },
  {
   "cell_type": "code",
   "execution_count": 52,
   "metadata": {
    "collapsed": false
   },
   "outputs": [
    {
     "data": {
      "text/plain": [
       "0"
      ]
     },
     "execution_count": 52,
     "metadata": {},
     "output_type": "execute_result"
    }
   ],
   "source": [
    "a.index(2)"
   ]
  },
  {
   "cell_type": "code",
   "execution_count": null,
   "metadata": {
    "collapsed": true
   },
   "outputs": [],
   "source": []
  },
  {
   "cell_type": "code",
   "execution_count": null,
   "metadata": {
    "collapsed": true
   },
   "outputs": [],
   "source": []
  }
 ],
 "metadata": {
  "kernelspec": {
   "display_name": "Python [Root]",
   "language": "python",
   "name": "Python [Root]"
  },
  "language_info": {
   "codemirror_mode": {
    "name": "ipython",
    "version": 2
   },
   "file_extension": ".py",
   "mimetype": "text/x-python",
   "name": "python",
   "nbconvert_exporter": "python",
   "pygments_lexer": "ipython2",
   "version": "2.7.12"
  }
 },
 "nbformat": 4,
 "nbformat_minor": 0
}
