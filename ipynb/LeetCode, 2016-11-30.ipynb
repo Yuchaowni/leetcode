{
 "cells": [
  {
   "cell_type": "markdown",
   "metadata": {},
   "source": [
    "# 445. Add Two Numbers II"
   ]
  },
  {
   "cell_type": "code",
   "execution_count": 2,
   "metadata": {
    "collapsed": true
   },
   "outputs": [],
   "source": [
    "# Definition for singly-linked list.\n",
    "# class ListNode(object):\n",
    "#     def __init__(self, x):\n",
    "#         self.val = x\n",
    "#         self.next = None\n",
    "\n",
    "# convert ll to numbers, add, then convert back to ll\n",
    "class Solution(object):\n",
    "    def addTwoNumbers(self, l1, l2):\n",
    "        \"\"\"\n",
    "        :type l1: ListNode\n",
    "        :type l2: ListNode\n",
    "        :rtype: ListNode\n",
    "        \"\"\"\n",
    "        num1 = self.linkedListToNum(l1)\n",
    "        num2 = self.linkedListToNum(l2)\n",
    "        summed = num1+num2\n",
    "        return self.numToLinkedList(summed)\n",
    "    \n",
    "    def numToLinkedList(self, num):\n",
    "        dummy = ListNode(None)\n",
    "        curr = dummy\n",
    "        for d in str(num):\n",
    "            node = ListNode(int(d))\n",
    "            curr.next = node\n",
    "            curr = node\n",
    "        return dummy.next\n",
    "     \n",
    "    def linkedListToNum(self, l):\n",
    "        string = \"\"\n",
    "        cur = l\n",
    "        while cur:\n",
    "            string += str(cur.val)\n",
    "            cur = cur.next\n",
    "        return int(string)"
   ]
  },
  {
   "cell_type": "markdown",
   "metadata": {},
   "source": [
    "## Linked List data structure"
   ]
  },
  {
   "cell_type": "code",
   "execution_count": 16,
   "metadata": {
    "collapsed": false
   },
   "outputs": [
    {
     "data": {
      "text/plain": [
       "[1, 2, 3, 4]"
      ]
     },
     "execution_count": 16,
     "metadata": {},
     "output_type": "execute_result"
    }
   ],
   "source": [
    "class LinkedList(object):\n",
    "    def __init__(self,nums):\n",
    "        self.head = ListNode(nums[0])\n",
    "        cur = self.head\n",
    "        for i in range(1,len(nums)):\n",
    "            cur.next=ListNode(nums[i])\n",
    "            cur = cur.next\n",
    "    def get(self):\n",
    "        cur = self.head\n",
    "        list=[]\n",
    "        while cur:\n",
    "            list.append(cur.val)\n",
    "            cur=cur.next\n",
    "        return list\n",
    "    \n",
    "class ListNode(object):\n",
    "    def __init__(self, x):\n",
    "        self.val = x\n",
    "        self.next = None\n",
    "\n",
    "LinkedList([1,2,3,4]).get()        "
   ]
  },
  {
   "cell_type": "markdown",
   "metadata": {},
   "source": [
    "# 442 Find All Duplicates in an Array"
   ]
  },
  {
   "cell_type": "code",
   "execution_count": 19,
   "metadata": {
    "collapsed": false
   },
   "outputs": [
    {
     "data": {
      "text/plain": [
       "[2, 3]"
      ]
     },
     "execution_count": 19,
     "metadata": {},
     "output_type": "execute_result"
    }
   ],
   "source": [
    "# use opposite number to label a visited status\n",
    "class Solution(object):\n",
    "    def findDuplicates(self, nums):\n",
    "        \"\"\"\n",
    "        :type nums: List[int]\n",
    "        :rtype: List[int]\n",
    "        \"\"\"\n",
    "        list=[]\n",
    "        for i in range(len(nums)):\n",
    "            index = abs(nums[i])-1  # used to choose an item to label\n",
    "            if nums[index] < 0:\n",
    "                list.append(abs(nums[i]))\n",
    "            nums[index] = - nums[index]\n",
    "        return list\n",
    "    \n",
    "Solution().findDuplicates([4,3,2,7,8,2,3,1])                       "
   ]
  },
  {
   "cell_type": "code",
   "execution_count": 22,
   "metadata": {
    "collapsed": false
   },
   "outputs": [
    {
     "name": "stdout",
     "output_type": "stream",
     "text": [
      "0 [7, 3, 2, 4, 8, 2, 3, 1]\n",
      "1 [7, 2, 3, 4, 8, 2, 3, 1]\n",
      "2 [7, 2, 3, 4, 8, 2, 3, 1]\n",
      "3 [7, 2, 3, 4, 8, 2, 3, 1]\n",
      "4 [7, 2, 3, 4, 1, 2, 3, 8]\n",
      "5 [7, 2, 3, 4, 1, 2, 3, 8]\n",
      "6 [7, 2, 3, 4, 1, 2, 3, 8]\n",
      "7 [7, 2, 3, 4, 1, 2, 3, 8]\n"
     ]
    },
    {
     "data": {
      "text/plain": [
       "[]"
      ]
     },
     "execution_count": 22,
     "metadata": {},
     "output_type": "execute_result"
    }
   ],
   "source": [
    "class Solution(object):\n",
    "    def findDuplicates(self, nums):\n",
    "        \"\"\"\n",
    "        :type nums: List[int]\n",
    "        :rtype: List[int]\n",
    "        \"\"\"\n",
    "        list=[]\n",
    "        for i in range(len(nums)):\n",
    "            index = nums[i]-1\n",
    "            nums[i],nums[index]=nums[index],nums[i]\n",
    "            print i, nums\n",
    "        return list\n",
    "    \n",
    "Solution().findDuplicates([4,3,2,7,8,2,3,1])                       "
   ]
  },
  {
   "cell_type": "markdown",
   "metadata": {},
   "source": [
    "# 169. Majority Element"
   ]
  },
  {
   "cell_type": "code",
   "execution_count": 23,
   "metadata": {
    "collapsed": false
   },
   "outputs": [
    {
     "data": {
      "text/plain": [
       "1"
      ]
     },
     "execution_count": 23,
     "metadata": {},
     "output_type": "execute_result"
    }
   ],
   "source": [
    "# this idea is very smart. because major is over half, so it will eventually emerge\n",
    "class Solution(object):\n",
    "    def majorityElement(self, nums):\n",
    "        \"\"\"\n",
    "        :type nums: List[int]\n",
    "        :rtype: int\n",
    "        \"\"\"\n",
    "        count=0\n",
    "        for item in nums:\n",
    "            if count==0:\n",
    "                major = item\n",
    "                count +=1\n",
    "            elif major == item:\n",
    "                count +=1\n",
    "            else:\n",
    "                count -=1\n",
    "        return major\n",
    "Solution().majorityElement([1,2,3,3,1,1,1])    "
   ]
  },
  {
   "cell_type": "code",
   "execution_count": null,
   "metadata": {
    "collapsed": true
   },
   "outputs": [],
   "source": []
  }
 ],
 "metadata": {
  "anaconda-cloud": {},
  "kernelspec": {
   "display_name": "Python [Root]",
   "language": "python",
   "name": "Python [Root]"
  },
  "language_info": {
   "codemirror_mode": {
    "name": "ipython",
    "version": 2
   },
   "file_extension": ".py",
   "mimetype": "text/x-python",
   "name": "python",
   "nbconvert_exporter": "python",
   "pygments_lexer": "ipython2",
   "version": "2.7.12"
  }
 },
 "nbformat": 4,
 "nbformat_minor": 0
}
