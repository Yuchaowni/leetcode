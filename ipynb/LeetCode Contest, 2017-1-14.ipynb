{
 "cells": [
  {
   "cell_type": "code",
   "execution_count": 4,
   "metadata": {
    "collapsed": false
   },
   "outputs": [
    {
     "name": "stdout",
     "output_type": "stream",
     "text": [
      "3\n",
      "0\n"
     ]
    }
   ],
   "source": [
    "class Solution(object):\n",
    "    def findMaxConsecutiveOnes(self, nums):\n",
    "        \"\"\"\n",
    "        :type nums: List[int]\n",
    "        :rtype: int\n",
    "        \"\"\"\n",
    "        ans = 0\n",
    "        cur = 0\n",
    "        for num in nums:\n",
    "            if num == 1:\n",
    "                cur +=1\n",
    "            else:\n",
    "                ans = max(ans,cur)\n",
    "                cur = 0\n",
    "            #print cur\n",
    "        return max(ans,cur)\n",
    "print Solution().findMaxConsecutiveOnes([1,1,0,1,1,1])\n",
    "print Solution().findMaxConsecutiveOnes([0])"
   ]
  },
  {
   "cell_type": "markdown",
   "metadata": {
    "collapsed": true
   },
   "source": [
    "# 487"
   ]
  },
  {
   "cell_type": "code",
   "execution_count": 21,
   "metadata": {
    "collapsed": false
   },
   "outputs": [
    {
     "name": "stdout",
     "output_type": "stream",
     "text": [
      "6\n",
      "4\n",
      "4\n",
      "2\n"
     ]
    }
   ],
   "source": [
    "class Solution(object):\n",
    "    def findMaxConsecutiveOnes(self, nums):\n",
    "        \"\"\"\n",
    "        :type nums: List[int]\n",
    "        :rtype: int\n",
    "        \"\"\"\n",
    "        ans = 0\n",
    "        big = 0\n",
    "        small= 0\n",
    "        last = 0\n",
    "        for num in nums:\n",
    "            if num == 1:\n",
    "                big +=1\n",
    "                small +=1\n",
    "                ans = max(ans, big)\n",
    "            else:\n",
    "                big = small+1\n",
    "                small = 0\n",
    "                ans = max(ans, big)\n",
    "            #print num, small, big, ans\n",
    "\n",
    "        return ans\n",
    "print Solution().findMaxConsecutiveOnes([1,1,0,1,1,1])\n",
    "print Solution().findMaxConsecutiveOnes([1,0,1,1,0])\n",
    "print Solution().findMaxConsecutiveOnes([1,0,1,1,0,0,1,1,1,0])\n",
    "print Solution().findMaxConsecutiveOnes([0,1])"
   ]
  },
  {
   "cell_type": "markdown",
   "metadata": {
    "collapsed": true
   },
   "source": [
    "# 488\n",
    "difficulty:\n",
    "1. 自消程序"
   ]
  },
  {
   "cell_type": "code",
   "execution_count": 23,
   "metadata": {
    "collapsed": true
   },
   "outputs": [],
   "source": [
    "class Solution(object):\n",
    "    def findMinStep(self, board, hand):\n",
    "        \"\"\"\n",
    "        :type board: str\n",
    "        :type hand: str\n",
    "        :rtype: int\n",
    "        \"\"\"\n",
    "        last = None\n",
    "        target =[]\n",
    "        bullet =[le for le in hand]\n",
    "        for ball in board:\n",
    "            if ball == last:\n",
    "                if \n",
    "                \n",
    "# difficult"
   ]
  },
  {
   "cell_type": "code",
   "execution_count": 24,
   "metadata": {
    "collapsed": true
   },
   "outputs": [],
   "source": [
    "a= 'hello'\n",
    "b = [le for le in a]"
   ]
  },
  {
   "cell_type": "code",
   "execution_count": 25,
   "metadata": {
    "collapsed": false
   },
   "outputs": [
    {
     "data": {
      "text/plain": [
       "['h', 'e', 'l', 'l', 'o']"
      ]
     },
     "execution_count": 25,
     "metadata": {},
     "output_type": "execute_result"
    }
   ],
   "source": [
    "b"
   ]
  },
  {
   "cell_type": "code",
   "execution_count": 26,
   "metadata": {
    "collapsed": false
   },
   "outputs": [
    {
     "data": {
      "text/plain": [
       "'e'"
      ]
     },
     "execution_count": 26,
     "metadata": {},
     "output_type": "execute_result"
    }
   ],
   "source": [
    "b.pop(1)"
   ]
  },
  {
   "cell_type": "code",
   "execution_count": 27,
   "metadata": {
    "collapsed": false
   },
   "outputs": [
    {
     "data": {
      "text/plain": [
       "1"
      ]
     },
     "execution_count": 27,
     "metadata": {},
     "output_type": "execute_result"
    }
   ],
   "source": [
    "b.index('l')"
   ]
  },
  {
   "cell_type": "code",
   "execution_count": null,
   "metadata": {
    "collapsed": true
   },
   "outputs": [],
   "source": []
  }
 ],
 "metadata": {
  "anaconda-cloud": {},
  "kernelspec": {
   "display_name": "Python [Root]",
   "language": "python",
   "name": "Python [Root]"
  },
  "language_info": {
   "codemirror_mode": {
    "name": "ipython",
    "version": 2
   },
   "file_extension": ".py",
   "mimetype": "text/x-python",
   "name": "python",
   "nbconvert_exporter": "python",
   "pygments_lexer": "ipython2",
   "version": "2.7.12"
  }
 },
 "nbformat": 4,
 "nbformat_minor": 0
}
