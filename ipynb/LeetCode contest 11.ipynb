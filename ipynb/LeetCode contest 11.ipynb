{
 "cells": [
  {
   "cell_type": "markdown",
   "metadata": {},
   "source": [
    "# 434 Number of Segments in a String"
   ]
  },
  {
   "cell_type": "code",
   "execution_count": 2,
   "metadata": {
    "collapsed": false
   },
   "outputs": [
    {
     "data": {
      "text/plain": [
       "5"
      ]
     },
     "execution_count": 2,
     "metadata": {},
     "output_type": "execute_result"
    }
   ],
   "source": [
    "class Solution(object):\n",
    "    def countSegments(self, s):\n",
    "        \"\"\"\n",
    "        :type s: str\n",
    "        :rtype: int\n",
    "        \"\"\"\n",
    "        return len(s.split())\n",
    "        \n",
    "Solution().countSegments(\"Hello, my name is John\")"
   ]
  },
  {
   "cell_type": "markdown",
   "metadata": {},
   "source": [
    "# 467. Unique Substrings in Wraparound String"
   ]
  },
  {
   "cell_type": "code",
   "execution_count": 46,
   "metadata": {
    "collapsed": false
   },
   "outputs": [
    {
     "name": "stdout",
     "output_type": "stream",
     "text": [
      "1157\n"
     ]
    }
   ],
   "source": [
    "# bottle neck : combination is new or old, e.g. cbababc\n",
    "class Solution(object):\n",
    "    def findSubstringInWraproundString(self, p):\n",
    "        \"\"\"\n",
    "        :type p: str\n",
    "        :rtype: int\n",
    "        \"\"\"\n",
    "        if len(p)==0:\n",
    "            return 0\n",
    "        pre = ord(p[0])\n",
    "        start = 0 # pos of possible combination\n",
    "        dic={}\n",
    "        dic[p[0]]=1\n",
    "        if pre > 96 and pre < 123:\n",
    "            count =1\n",
    "        else:\n",
    "            count = 0\n",
    "            \n",
    "        for i in range(1,len(p)):\n",
    "            \n",
    "            item = p[i]\n",
    "            cur = ord(item)\n",
    "            if cur > 96 and cur <123:\n",
    "                if item not in dic: \n",
    "                    num = 1\n",
    "                    dic[item]=1\n",
    "                    #print 'append:',item, pool\n",
    "                else: \n",
    "                    num = 0\n",
    "                if cur-pre == 1 or cur-pre == -25:\n",
    "                    temp = start\n",
    "                    while p[temp:i+1] not in dic:\n",
    "                        dic[p[temp:i+1]]=1\n",
    "                        num += 1\n",
    "                        temp +=1\n",
    "                else:\n",
    "                    start = i\n",
    "            else:\n",
    "                num =0\n",
    "            pre = cur   \n",
    "            count += num\n",
    "        #print dic\n",
    "        #print list\n",
    "        return count\n",
    "#print Solution().findSubstringInWraproundString(\"a\")\n",
    "#print Solution().findSubstringInWraproundString(\"cac\")  \n",
    "#print Solution().findSubstringInWraproundString(\"zab\")  \n",
    "#print Solution().findSubstringInWraproundString(\"cbababc\")  \n",
    "print Solution().findSubstringInWraproundString(\"abcdefghijklmnopqrstuvwxyzabcdefghijklmnopqrstuvwxyzabcde\") # 1157"
   ]
  },
  {
   "cell_type": "code",
   "execution_count": 4,
   "metadata": {
    "collapsed": false
   },
   "outputs": [
    {
     "data": {
      "text/plain": [
       "97"
      ]
     },
     "execution_count": 4,
     "metadata": {},
     "output_type": "execute_result"
    }
   ],
   "source": [
    "class Solution(object):\n",
    "    def isConvex(self, points):\n",
    "        \"\"\"\n",
    "        :type points: List[List[int]]\n",
    "        :rtype: bool\n",
    "        \"\"\"\n",
    "        pre = points"
   ]
  },
  {
   "cell_type": "code",
   "execution_count": 5,
   "metadata": {
    "collapsed": false
   },
   "outputs": [
    {
     "data": {
      "text/plain": [
       "122"
      ]
     },
     "execution_count": 5,
     "metadata": {},
     "output_type": "execute_result"
    }
   ],
   "source": [
    "ord('z')"
   ]
  },
  {
   "cell_type": "code",
   "execution_count": 6,
   "metadata": {
    "collapsed": false
   },
   "outputs": [
    {
     "data": {
      "text/plain": [
       "32"
      ]
     },
     "execution_count": 6,
     "metadata": {},
     "output_type": "execute_result"
    }
   ],
   "source": [
    "ord(' ')"
   ]
  },
  {
   "cell_type": "code",
   "execution_count": 7,
   "metadata": {
    "collapsed": false
   },
   "outputs": [
    {
     "data": {
      "text/plain": [
       "-25"
      ]
     },
     "execution_count": 7,
     "metadata": {},
     "output_type": "execute_result"
    }
   ],
   "source": [
    "\n",
    "97-122"
   ]
  },
  {
   "cell_type": "code",
   "execution_count": null,
   "metadata": {
    "collapsed": true
   },
   "outputs": [],
   "source": []
  }
 ],
 "metadata": {
  "anaconda-cloud": {},
  "kernelspec": {
   "display_name": "Python [Root]",
   "language": "python",
   "name": "Python [Root]"
  },
  "language_info": {
   "codemirror_mode": {
    "name": "ipython",
    "version": 2
   },
   "file_extension": ".py",
   "mimetype": "text/x-python",
   "name": "python",
   "nbconvert_exporter": "python",
   "pygments_lexer": "ipython2",
   "version": "2.7.12"
  }
 },
 "nbformat": 4,
 "nbformat_minor": 0
}
