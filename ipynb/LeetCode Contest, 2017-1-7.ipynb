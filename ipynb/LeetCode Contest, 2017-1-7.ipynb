{
 "cells": [
  {
   "cell_type": "markdown",
   "metadata": {},
   "source": [
    "# 476. Number Complement"
   ]
  },
  {
   "cell_type": "code",
   "execution_count": 19,
   "metadata": {
    "collapsed": false
   },
   "outputs": [
    {
     "data": {
      "text/plain": [
       "0"
      ]
     },
     "execution_count": 19,
     "metadata": {},
     "output_type": "execute_result"
    }
   ],
   "source": [
    "class Solution(object):\n",
    "    def findComplement(self, num):\n",
    "        \"\"\"\n",
    "        :type num: int\n",
    "        :rtype: int\n",
    "        \"\"\"\n",
    "        a = bin(num)\n",
    "        b = a[2:]\n",
    "        ans = 0\n",
    "        length= len(b)\n",
    "        for i in range(length):\n",
    "            if b[i]=='0':\n",
    "                ans += 2**(length-1-i)\n",
    "\n",
    "        return ans\n",
    "    \n",
    "Solution().findComplement(1)"
   ]
  },
  {
   "cell_type": "markdown",
   "metadata": {},
   "source": [
    "# 481. Magical String My SubmissionsBack To Contest"
   ]
  },
  {
   "cell_type": "code",
   "execution_count": 25,
   "metadata": {
    "collapsed": false
   },
   "outputs": [
    {
     "name": "stdout",
     "output_type": "stream",
     "text": [
      "[1, 2, 2, 1, 1] 3\n",
      "[1, 2, 2, 1, 1, 2] 4\n",
      "[1, 2, 2, 1, 1, 2, 1] 5\n",
      "[1, 2, 2, 1, 1, 2, 1, 2, 2] 6\n",
      "[1, 2, 2, 1, 1, 2, 1, 2, 2, 1] 7\n",
      "[1, 2, 2, 1, 1, 2, 1, 2, 2, 1, 2, 2] 8\n",
      "[1, 2, 2, 1, 1, 2, 1, 2, 2, 1, 2, 2, 1, 1] 9\n",
      "[1, 2, 2, 1, 1, 2, 1, 2, 2, 1, 2, 2, 1, 1, 2] 10\n",
      "5\n"
     ]
    }
   ],
   "source": [
    "class Solution(object):\n",
    "    def magicalString(self, n):\n",
    "        \"\"\"\n",
    "        :type n: int\n",
    "        :rtype: int\n",
    "        \"\"\"\n",
    "        if n == 0:\n",
    "            return 0\n",
    "        elif n<=2:\n",
    "            return 1\n",
    "        s = [1,2,2]\n",
    "        pointer = 2\n",
    "        ans = 1\n",
    "        while pointer < n:\n",
    "            get = s[pointer]\n",
    "            if get == 1:\n",
    "                ans +=1\n",
    "            if pointer % 2 == 0:\n",
    "                gift = 1\n",
    "            else:\n",
    "                gift = 2\n",
    "                \n",
    "            while get > 0:\n",
    "                s.append(gift)\n",
    "                get -=1\n",
    "            pointer +=1\n",
    "            #print s, pointer\n",
    "        return ans\n",
    "print Solution().magicalString(10)            "
   ]
  },
  {
   "cell_type": "markdown",
   "metadata": {},
   "source": [
    "# 482. License Key Formatting"
   ]
  },
  {
   "cell_type": "code",
   "execution_count": 52,
   "metadata": {
    "collapsed": false
   },
   "outputs": [
    {
     "name": "stdout",
     "output_type": "stream",
     "text": [
      "24A0R74K 8 2 2\n",
      "24-A0R-74K\n"
     ]
    }
   ],
   "source": [
    "class Solution(object):\n",
    "    def licenseKeyFormatting(self, S, K):\n",
    "        \"\"\"\n",
    "        :type S: str\n",
    "        :type K: int\n",
    "        :rtype: str\n",
    "        \"\"\"\n",
    "        string = ''.join(S.split('-')).upper()\n",
    "        #string = string.upper()\n",
    "        length = len(string)\n",
    "        pieces = length / K\n",
    "        remain = length % K\n",
    "        if remain > 0:\n",
    "            parts = [string[0:remain]]\n",
    "        else:\n",
    "            parts = []\n",
    "        i=0\n",
    "        print string, length, pieces, remain\n",
    "        while i < pieces:\n",
    "            parts.append(string[remain+i*K:remain+(i+1)*K])\n",
    "            i +=1\n",
    "            #print parts,remain+(i-1)*K\n",
    "        return '-'.join(parts)\n",
    "print Solution().licenseKeyFormatting(\"2-4A0r7-4k\",3)"
   ]
  },
  {
   "cell_type": "code",
   "execution_count": 33,
   "metadata": {
    "collapsed": false
   },
   "outputs": [],
   "source": []
  },
  {
   "cell_type": "code",
   "execution_count": null,
   "metadata": {
    "collapsed": false
   },
   "outputs": [],
   "source": []
  },
  {
   "cell_type": "code",
   "execution_count": null,
   "metadata": {
    "collapsed": true
   },
   "outputs": [],
   "source": []
  }
 ],
 "metadata": {
  "kernelspec": {
   "display_name": "Python [Root]",
   "language": "python",
   "name": "Python [Root]"
  },
  "language_info": {
   "codemirror_mode": {
    "name": "ipython",
    "version": 2
   },
   "file_extension": ".py",
   "mimetype": "text/x-python",
   "name": "python",
   "nbconvert_exporter": "python",
   "pygments_lexer": "ipython2",
   "version": "2.7.12"
  }
 },
 "nbformat": 4,
 "nbformat_minor": 0
}
